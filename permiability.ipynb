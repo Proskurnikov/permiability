{
 "cells": [
  {
   "cell_type": "markdown",
   "metadata": {},
   "source": [
    "\n",
    "\n",
    "\n",
    "\n",
    "# Газопроницаемость\n",
    "\n",
    "Оценка газопроницаемости тканей с двусторонним покрыттием (резиновым или ПВХ) для проекта СТО ВГУ ОТУ.\n",
    "\n",
    "Будет проведена попытка оценки двумя методами:\n",
    "\n",
    "- первый - на основании установ   ленного требования по ГОСТ\n",
    "- второй - на основании установленного требования к уменьшению давления в ВГУ\n",
    "\n",
    "## Исходные данные\n",
    "\n",
    "### Газопроницаемость реальных материалов\n",
    "\n",
    "Газопроницаемость ПВХ-ткани в открытых источниках найти не удалось.\n",
    "\n",
    "Газопроницаемость ПВХ\n",
    "\n",
    " Значение | Единица измерения | Ссылка\n",
    ":--------:|:-----------------:|:-------:\n",
    "xx | xx | [ссылка](https://www.quora.com/How-long-can-a-human-survive-in-an-inflatable-plastic-bubble-with-a-2-meter-diameter)\n",
    "\n",
    "#todo Заполнить\n",
    "\n",
    "Газопроницаемость других материалов (для сравнения)\n",
    "\n",
    " Материал | Газ | Значение | Единица измерения | Ссылка | Примечание\n",
    ":--------:|:---:|:--------:|:-----------------:|:------:|:-----------:\n",
    "Поливинилиденхлорид | Кислород | 2.6 | см³ \\* 0.2 микрометра / (м² \\* сутки * атмосферу) | [ссылка](https://www.quora.com/How-long-can-a-human-survive-in-an-inflatable-plastic-bubble-with-a-2-meter-diameter) | Указано, что хороший барьер\n",
    "\n",
    "\n"
   ]
  },
  {
   "cell_type": "markdown",
   "metadata": {},
   "source": [
    "## Метод 1\n",
    "\n",
    "В первом методе выведем значения газопроницаемости по двум оставшимся ГОСТам по значению, которое установлено сейчас для первого ГОСТа"
   ]
  },
  {
   "cell_type": "markdown",
   "metadata": {},
   "source": [
    "### ГОСТ"
   ]
  },
  {
   "cell_type": "markdown",
   "metadata": {},
   "source": [
    "### ГОСТ"
   ]
  },
  {
   "cell_type": "markdown",
   "metadata": {},
   "source": [
    "## Метод 2"
   ]
  },
  {
   "cell_type": "code",
   "execution_count": null,
   "metadata": {},
   "outputs": [],
   "source": []
  }
 ],
 "metadata": {
  "kernelspec": {
   "display_name": "Python 3.8.3 32-bit",
   "language": "python",
   "name": "python38332bitc6b0a3dc66404fa19ad1f3f285873b12"
  },
  "language_info": {
   "codemirror_mode": {
    "name": "ipython",
    "version": 3
   },
   "file_extension": ".py",
   "mimetype": "text/x-python",
   "name": "python",
   "nbconvert_exporter": "python",
   "pygments_lexer": "ipython3",
   "version": "3.8.3"
  }
 },
 "nbformat": 4,
 "nbformat_minor": 2
}
