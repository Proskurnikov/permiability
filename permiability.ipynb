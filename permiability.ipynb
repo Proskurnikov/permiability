{
 "cells": [
  {
   "cell_type": "markdown",
   "metadata": {},
   "source": [
    "\n",
    "\n",
    "\n",
    "\n",
    "# Газопроницаемость\n",
    "\n",
    "Оценка газопроницаемости тканей с двусторонним покрыттием (резиновым или ПВХ) для проекта СТО ВГУ ОТУ.\n",
    "\n",
    "Будет проведена попытка оценки двумя методами:\n",
    "\n",
    "- первый - на основании установ   ленного требования по ГОСТ\n",
    "- второй - на основании установленного требования к уменьшению давления в ВГУ\n",
    "\n",
    "## Исходные данные\n",
    "\n",
    "### Газопроницаемость реальных материалов\n",
    "\n",
    "Газопроницаемость ПВХ-ткани в открытых источниках найти не удалось.\n",
    "\n",
    "Газопроницаемость ПВХ\n",
    "\n",
    " Газ | Значение | Единица измерения | Ссылка\n",
    ":---:|:--------:|:-----------------:|:-------:\n",
    "Кислород | 0.198 - 0.790 | мл \\* м / (м² \\* сутки * Па) | [ссылка](https://www.quora.com/How-long-can-a-human-survive-in-an-inflatable-plastic-bubble-with-a-2-meter-diameter)\n",
    "Кислород | 3100 | см³ \\* микрометр / (м² \\* сутки * бар) | [ссылка]( http://exclusive.multibriefs.com/content/novel-medical-plastics-packaging-material-and-process-advances/engineering)\n",
    "\n",
    "\n",
    "Газопроницаемость других материалов (для сравнения)\n",
    "\n",
    " Материал | Газ | Значение | Единица измерения | Ссылка | Примечание\n",
    ":--------:|:---:|:--------:|:-----------------:|:------:|:-----------:\n",
    "Поливинилиденхлорид | Кислород | 2.6 | см³ \\* 0.2 микрометра / (м² \\* сутки * атмосферу) | [ссылка](https://www.quora.com/How-long-can-a-human-survive-in-an-inflatable-plastic-bubble-with-a-2-meter-diameter) | Указано, что хороший барьер\n",
    "Поливинилиденхлорид | Кислород | 0.001 - 0.03 | мл \\* м / (м² \\* сутки * Па) | [ссылка](https://www.quora.com/How-long-can-a-human-survive-in-an-inflatable-plastic-bubble-with-a-2-meter-diameter)\n",
    "\n",
    "\n"
   ]
  },
  {
   "cell_type": "code",
   "execution_count": 1,
   "metadata": {},
   "outputs": [],
   "source": [
    "import pandas as pd\n",
    "# Проверим исходные данные, полученные из разных источников\n",
    "# Сравнить по самим данным достаточно сложно, т.к. единицы измерения очень отличаются\n",
    "# для перевода воспользуемся математическим пакетом (автоматически переведем единицы измерения)\n",
    "from pint import UnitRegistry\n",
    "ureg = UnitRegistry()\n"
   ]
  },
  {
   "cell_type": "code",
   "execution_count": 2,
   "metadata": {},
   "outputs": [
    {
     "output_type": "execute_result",
     "data": {
      "text/plain": "<Unit('milliliter / day / meter / pascal')>",
      "text/html": "\\[milliliter/(day\\ meter\\ pascal)\\]",
      "text/latex": "$\\frac{\\mathrm{milliliter}}{\\left(\\mathrm{day} \\cdot \\mathrm{meter} \\cdot \\mathrm{pascal}\\right)}$"
     },
     "metadata": {},
     "execution_count": 2
    }
   ],
   "source": [
    "# Единица измерения первой строки таблицы \"Газопроницаемость ПВХ\"\n",
    "p_pvc1_UOM = ureg.milliliter * ureg.meter / (ureg.meter * ureg.meter * ureg.day * ureg.pascal)     # UOM - unit of measure\n",
    "p_pvc1_UOM"
   ]
  },
  {
   "cell_type": "code",
   "execution_count": 3,
   "metadata": {},
   "outputs": [
    {
     "output_type": "execute_result",
     "data": {
      "text/plain": "<Unit('centimeter ** 3 * micrometer / bar / day / meter ** 2')>",
      "text/html": "\\[centimeter^3\\ micrometer/(bar\\ day\\ meter^2)\\]",
      "text/latex": "$\\frac{\\mathrm{centimeter}^{3} \\cdot \\mathrm{micrometer}}{\\left(\\mathrm{bar} \\cdot \\mathrm{day} \\cdot \\mathrm{meter}^{2}\\right)}$"
     },
     "metadata": {},
     "execution_count": 3
    }
   ],
   "source": [
    "# Единица измерения второй строки таблицы \"Газопроницаемость ПВХ\"\n",
    "p_pvc2_UOM = ureg.centimeter * ureg.centimeter * ureg.centimeter * ureg.micrometer / (ureg.meter * ureg.meter * ureg.day * ureg.bar)\n",
    "p_pvc2_UOM"
   ]
  },
  {
   "cell_type": "code",
   "execution_count": 4,
   "metadata": {},
   "outputs": [
    {
     "output_type": "execute_result",
     "data": {
      "text/plain": "3.1000000000000006e-08 <Unit('milliliter / day / meter / pascal')>",
      "text/html": "\\[3.1000000000000006×10^{-8}\\ milliliter/(day\\ meter\\ pascal)\\]",
      "text/latex": "$3.1000000000000006\\times 10^{-8}\\ \\frac{\\mathrm{milliliter}}{\\left(\\mathrm{day} \\cdot \\mathrm{meter} \\cdot \\mathrm{pascal}\\right)}$"
     },
     "metadata": {},
     "execution_count": 4
    }
   ],
   "source": [
    "# Перводим значение второй строки в единицы измерения первой строки\n",
    "permiability_PVC_2 = (3100 * p_pvc2_UOM).to(p_pvc1_UOM)\n",
    "permiability_PVC_2"
   ]
  },
  {
   "cell_type": "code",
   "execution_count": 5,
   "metadata": {},
   "outputs": [
    {
     "output_type": "execute_result",
     "data": {
      "text/plain": "0.198 <Unit('milliliter / day / meter / pascal')>",
      "text/html": "\\[0.198\\ milliliter/(day\\ meter\\ pascal)\\]",
      "text/latex": "$0.198\\ \\frac{\\mathrm{milliliter}}{\\left(\\mathrm{day} \\cdot \\mathrm{meter} \\cdot \\mathrm{pascal}\\right)}$"
     },
     "metadata": {},
     "execution_count": 5
    }
   ],
   "source": [
    "permiability_PVC_1 = 0.198 * p_pvc1_UOM\n",
    "permiability_PVC_1"
   ]
  },
  {
   "cell_type": "code",
   "execution_count": 6,
   "metadata": {},
   "outputs": [
    {
     "output_type": "execute_result",
     "data": {
      "text/plain": "6387096.774193548 <Unit('dimensionless')>",
      "text/html": "\\[6387096.774193548\\ dimensionless\\]",
      "text/latex": "$6387096.774193548\\ dimensionless$"
     },
     "metadata": {},
     "execution_count": 6
    }
   ],
   "source": [
    "permiability_PVC_1 / permiability_PVC_2"
   ]
  },
  {
   "cell_type": "code",
   "execution_count": 7,
   "metadata": {},
   "outputs": [
    {
     "output_type": "execute_result",
     "data": {
      "text/plain": "0.2 <Unit('centimeter ** 3 * micrometer / day / meter ** 2 / standard_atmosphere')>",
      "text/html": "\\[0.2\\ centimeter^3\\ micrometer/(day\\ meter^2\\ standard\\_atmosphere)\\]",
      "text/latex": "$0.2\\ \\frac{\\mathrm{centimeter}^{3} \\cdot \\mathrm{micrometer}}{\\left(\\mathrm{day} \\cdot \\mathrm{meter}^{2} \\cdot \\mathrm{standard\\_atmosphere}\\right)}$"
     },
     "metadata": {},
     "execution_count": 7
    }
   ],
   "source": [
    "# Единица измерения первой строки таблицы \"Газопроницаемость других материалов\"\n",
    "p_1_UOM = ureg.centimeter * ureg.centimeter * ureg.centimeter * 0.2 * ureg.micrometer / (ureg.meter * ureg.meter * ureg.day * ureg.atmosphere) # UOM - unit of measure\n",
    "p_1_UOM"
   ]
  },
  {
   "cell_type": "code",
   "execution_count": 8,
   "metadata": {},
   "outputs": [
    {
     "output_type": "execute_result",
     "data": {
      "text/plain": "<Unit('milliliter / day / meter / pascal')>",
      "text/html": "\\[milliliter/(day\\ meter\\ pascal)\\]",
      "text/latex": "$\\frac{\\mathrm{milliliter}}{\\left(\\mathrm{day} \\cdot \\mathrm{meter} \\cdot \\mathrm{pascal}\\right)}$"
     },
     "metadata": {},
     "execution_count": 8
    }
   ],
   "source": [
    "# Единица измерения второй строки таблицы \"Газопроницаемость других материалов\"\n",
    "p_2_UOM = ureg.milliliter * ureg.meter / (ureg.meter * ureg.meter * ureg.day * ureg.pascal)\n",
    "p_2_UOM"
   ]
  },
  {
   "cell_type": "code",
   "execution_count": 9,
   "metadata": {},
   "outputs": [
    {
     "output_type": "execute_result",
     "data": {
      "text/plain": "5.1320009869232674e-12 <Unit('milliliter / day / meter / pascal')>",
      "text/html": "\\[5.1320009869232674×10^{-12}\\ milliliter/(day\\ meter\\ pascal)\\]",
      "text/latex": "$5.1320009869232674\\times 10^{-12}\\ \\frac{\\mathrm{milliliter}}{\\left(\\mathrm{day} \\cdot \\mathrm{meter} \\cdot \\mathrm{pascal}\\right)}$"
     },
     "metadata": {},
     "execution_count": 9
    }
   ],
   "source": [
    "# Переводим значение первой строки в единицы измерения второй строки\n",
    "permiability_PVdC_1 = (2.6 * p_1_UOM).to(p_2_UOM)\n",
    "permiability_PVdC_1"
   ]
  },
  {
   "cell_type": "code",
   "execution_count": 10,
   "metadata": {},
   "outputs": [
    {
     "output_type": "execute_result",
     "data": {
      "text/plain": "0.001 <Unit('milliliter / day / meter / pascal')>",
      "text/html": "\\[0.001\\ milliliter/(day\\ meter\\ pascal)\\]",
      "text/latex": "$0.001\\ \\frac{\\mathrm{milliliter}}{\\left(\\mathrm{day} \\cdot \\mathrm{meter} \\cdot \\mathrm{pascal}\\right)}$"
     },
     "metadata": {},
     "execution_count": 10
    }
   ],
   "source": [
    "# Значение второй строки\n",
    "permiability_PVdC_2 = 0.001 * p_2_UOM\n",
    "permiability_PVdC_2"
   ]
  },
  {
   "cell_type": "code",
   "execution_count": 11,
   "metadata": {},
   "outputs": [
    {
     "output_type": "execute_result",
     "data": {
      "text/plain": "194855769.23076922 <Unit('dimensionless')>",
      "text/html": "\\[194855769.23076922\\ dimensionless\\]",
      "text/latex": "$194855769.23076922\\ dimensionless$"
     },
     "metadata": {},
     "execution_count": 11
    }
   ],
   "source": [
    "# Сравним значение первой строки со значением второй строки в одинаковых единицах измерения\n",
    "permiability_PVdC_2 / permiability_PVdC_1"
   ]
  },
  {
   "cell_type": "code",
   "execution_count": 12,
   "metadata": {},
   "outputs": [
    {
     "output_type": "execute_result",
     "data": {
      "text/plain": "'Первое значение 5.13e-12 в 1.95e+08 раз меньше второго значения 0.001'"
     },
     "metadata": {},
     "execution_count": 12
    }
   ],
   "source": [
    "f'Первое значение {permiability_PVdC_1.magnitude:.2e} в {(permiability_PVdC_2 / permiability_PVdC_1).magnitude:.2e} раз меньше второго значения {permiability_PVdC_2.magnitude}'"
   ]
  },
  {
   "cell_type": "markdown",
   "metadata": {},
   "source": [
    "**Вывод**\n",
    "\n",
    "Ориентироваться на показания, полученные из открытых источников нельзя:\n",
    "\n",
    "- не известно по какой методике проведен контроль;\n",
    "- не известна достоверность результатов."
   ]
  },
  {
   "cell_type": "markdown",
   "metadata": {},
   "source": [
    "## Метод 1\n",
    "\n",
    "В первом методе выведем значения газопроницаемости по двум оставшимся ГОСТам по значению, которое установлено сейчас для первого ГОСТа"
   ]
  },
  {
   "cell_type": "markdown",
   "metadata": {},
   "source": [
    "### ГОСТ 555"
   ]
  },
  {
   "cell_type": "markdown",
   "metadata": {},
   "source": [
    "### ГОСТ"
   ]
  },
  {
   "cell_type": "markdown",
   "metadata": {},
   "source": [
    "## Метод 2"
   ]
  }
 ],
 "metadata": {
  "kernelspec": {
   "display_name": "Python 3.7.7 64-bit ('test': conda)",
   "language": "python",
   "name": "python37764bittestconda126ab5d893ee44f9b4790337ff41f0ea"
  },
  "language_info": {
   "codemirror_mode": {
    "name": "ipython",
    "version": 3
   },
   "file_extension": ".py",
   "mimetype": "text/x-python",
   "name": "python",
   "nbconvert_exporter": "python",
   "pygments_lexer": "ipython3",
   "version": "3.7.7-final"
  }
 },
 "nbformat": 4,
 "nbformat_minor": 2
}