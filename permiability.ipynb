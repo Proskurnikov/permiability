{
 "cells": [
  {
   "cell_type": "code",
   "execution_count": 1,
   "metadata": {},
   "outputs": [
    {
     "output_type": "stream",
     "name": "stdout",
     "text": "8.314462618\n"
    }
   ],
   "source": [
    "# подключим необходимые библиотеки\n",
    "# Единицы измерения\n",
    "from pint import UnitRegistry\n",
    "ureg = UnitRegistry()\n",
    "\n",
    "# Универсальная газовая постоянная\n",
    "from scipy.constants import R, pi\n",
    "print(R)\n",
    "# Единица измерения для универсальной газовой постоянной\n",
    "R_UOM = ureg.joule / (ureg.mol * ureg.kelvin)\n",
    "R_UOM\n",
    "\n",
    "# Толщина материала (ткани ПВХ, которую используют для производства ВГУ)\n",
    "thickness_PVC = 0.7 * ureg.millimeter"
   ]
  },
  {
   "cell_type": "markdown",
   "metadata": {},
   "source": [
    "\n",
    "\n",
    "\n",
    "\n",
    "# Газопроницаемость\n",
    "\n",
    "Оценка газопроницаемости тканей с двусторонним покрыттием (резиновым или ПВХ) для проекта СТО ВГУ ОТУ.\n",
    "\n",
    "Будет проведена попытка оценки двумя методами:\n",
    "\n",
    "- первый - на основании установленного требования по ГОСТ 8973 - 0,002 м² / (Па / с)\n",
    "- второй - на основании установленного требования к уменьшению давления в ВГУ - 10 % за 6 часов\n",
    "\n",
    "## Исходные данные\n",
    "\n",
    "### Газопроницаемость реальных материалов\n",
    "\n",
    "Газопроницаемость ПВХ-ткани в открытых источниках найти не удалось.\n",
    "\n",
    "Газопроницаемость ПВХ\n",
    "\n",
    " Газ | Значение | Единица измерения | Ссылка\n",
    ":---:|:--------:|:-----------------:|:-------:\n",
    "Кислород | 0.198 - 0.790 | мл \\* м / (м² \\* сутки * Па) | [ссылка](https://www.quora.com/How-long-can-a-human-survive-in-an-inflatable-plastic-bubble-with-a-2-meter-diameter)\n",
    "Кислород | 3100 | см³ \\* микрометр / (м² \\* сутки * бар) | [ссылка]( http://exclusive.multibriefs.com/content/novel-medical-plastics-packaging-material-and-process-advances/engineering)\n",
    "\n",
    "\n",
    "Газопроницаемость других материалов (для сравнения)\n",
    "\n",
    " Материал | Газ | Значение | Единица измерения | Ссылка | Примечание\n",
    ":--------:|:---:|:--------:|:-----------------:|:------:|:-----------:\n",
    "Поливинилиденхлорид | Кислород | 2.6 | см³ \\* 0.2 микрометра / (м² \\* сутки * атмосферу) | [ссылка](https://www.quora.com/How-long-can-a-human-survive-in-an-inflatable-plastic-bubble-with-a-2-meter-diameter) | Указано, что хороший барьер\n",
    "Поливинилиденхлорид | Кислород | 0.001 - 0.03 | мл \\* м / (м² \\* сутки * Па) | [ссылка](https://www.quora.com/How-long-can-a-human-survive-in-an-inflatable-plastic-bubble-with-a-2-meter-diameter)\n",
    "\n",
    "\n"
   ]
  },
  {
   "cell_type": "code",
   "execution_count": 2,
   "metadata": {},
   "outputs": [
    {
     "output_type": "execute_result",
     "data": {
      "text/plain": "<Unit('milliliter / day / meter / pascal')>",
      "text/html": "\\[milliliter/(day\\ meter\\ pascal)\\]",
      "text/latex": "$\\frac{\\mathrm{milliliter}}{\\left(\\mathrm{day} \\cdot \\mathrm{meter} \\cdot \\mathrm{pascal}\\right)}$"
     },
     "metadata": {},
     "execution_count": 2
    }
   ],
   "source": [
    "# Проверим исходные данные, полученные из разных источников\n",
    "# Сравнить по самим данным достаточно сложно, т.к. единицы измерения очень отличаются\n",
    "# для перевода воспользуемся математическим пакетом (автоматически переведем единицы измерения) pint\n",
    "# Единица измерения первой строки таблицы \"Газопроницаемость ПВХ\"\n",
    "p_pvc1_UOM = ureg.milliliter * ureg.meter / (ureg.meter * ureg.meter * ureg.day * ureg.pascal)     # UOM - unit of measure\n",
    "p_pvc1_UOM"
   ]
  },
  {
   "cell_type": "code",
   "execution_count": 3,
   "metadata": {},
   "outputs": [
    {
     "output_type": "execute_result",
     "data": {
      "text/plain": "<Unit('centimeter ** 3 * micrometer / bar / day / meter ** 2')>",
      "text/html": "\\[centimeter^3\\ micrometer/(bar\\ day\\ meter^2)\\]",
      "text/latex": "$\\frac{\\mathrm{centimeter}^{3} \\cdot \\mathrm{micrometer}}{\\left(\\mathrm{bar} \\cdot \\mathrm{day} \\cdot \\mathrm{meter}^{2}\\right)}$"
     },
     "metadata": {},
     "execution_count": 3
    }
   ],
   "source": [
    "# Единица измерения второй строки таблицы \"Газопроницаемость ПВХ\"\n",
    "p_pvc2_UOM = ureg.centimeter * ureg.centimeter * ureg.centimeter * ureg.micrometer / (ureg.meter * ureg.meter * ureg.day * ureg.bar)\n",
    "p_pvc2_UOM"
   ]
  },
  {
   "cell_type": "code",
   "execution_count": 4,
   "metadata": {},
   "outputs": [
    {
     "output_type": "execute_result",
     "data": {
      "text/plain": "3.1000000000000006e-08 <Unit('milliliter / day / meter / pascal')>",
      "text/html": "\\[3.1000000000000006×10^{-8}\\ milliliter/(day\\ meter\\ pascal)\\]",
      "text/latex": "$3.1000000000000006\\times 10^{-8}\\ \\frac{\\mathrm{milliliter}}{\\left(\\mathrm{day} \\cdot \\mathrm{meter} \\cdot \\mathrm{pascal}\\right)}$"
     },
     "metadata": {},
     "execution_count": 4
    }
   ],
   "source": [
    "# Перводим значение второй строки в единицы измерения первой строки\n",
    "permiability_PVC_2 = (3100 * p_pvc2_UOM).to(p_pvc1_UOM)\n",
    "permiability_PVC_2"
   ]
  },
  {
   "cell_type": "code",
   "execution_count": 5,
   "metadata": {},
   "outputs": [
    {
     "output_type": "execute_result",
     "data": {
      "text/plain": "0.198 <Unit('milliliter / day / meter / pascal')>",
      "text/html": "\\[0.198\\ milliliter/(day\\ meter\\ pascal)\\]",
      "text/latex": "$0.198\\ \\frac{\\mathrm{milliliter}}{\\left(\\mathrm{day} \\cdot \\mathrm{meter} \\cdot \\mathrm{pascal}\\right)}$"
     },
     "metadata": {},
     "execution_count": 5
    }
   ],
   "source": [
    "permiability_PVC_1 = 0.198 * p_pvc1_UOM\n",
    "permiability_PVC_1"
   ]
  },
  {
   "cell_type": "code",
   "execution_count": 6,
   "metadata": {},
   "outputs": [
    {
     "output_type": "execute_result",
     "data": {
      "text/plain": "6387096.774193548 <Unit('dimensionless')>",
      "text/html": "\\[6387096.774193548\\ dimensionless\\]",
      "text/latex": "$6387096.774193548\\ dimensionless$"
     },
     "metadata": {},
     "execution_count": 6
    }
   ],
   "source": [
    "permiability_PVC_1 / permiability_PVC_2"
   ]
  },
  {
   "cell_type": "code",
   "execution_count": 7,
   "metadata": {},
   "outputs": [
    {
     "output_type": "execute_result",
     "data": {
      "text/plain": "0.2 <Unit('centimeter ** 3 * micrometer / day / meter ** 2 / standard_atmosphere')>",
      "text/html": "\\[0.2\\ centimeter^3\\ micrometer/(day\\ meter^2\\ standard\\_atmosphere)\\]",
      "text/latex": "$0.2\\ \\frac{\\mathrm{centimeter}^{3} \\cdot \\mathrm{micrometer}}{\\left(\\mathrm{day} \\cdot \\mathrm{meter}^{2} \\cdot \\mathrm{standard\\_atmosphere}\\right)}$"
     },
     "metadata": {},
     "execution_count": 7
    }
   ],
   "source": [
    "# Единица измерения первой строки таблицы \"Газопроницаемость других материалов\"\n",
    "p_1_UOM = ureg.centimeter * ureg.centimeter * ureg.centimeter * 0.2 * ureg.micrometer / (ureg.meter * ureg.meter * ureg.day * ureg.atmosphere) # UOM - unit of measure\n",
    "p_1_UOM"
   ]
  },
  {
   "cell_type": "code",
   "execution_count": 8,
   "metadata": {},
   "outputs": [
    {
     "output_type": "execute_result",
     "data": {
      "text/plain": "<Unit('milliliter / day / meter / pascal')>",
      "text/html": "\\[milliliter/(day\\ meter\\ pascal)\\]",
      "text/latex": "$\\frac{\\mathrm{milliliter}}{\\left(\\mathrm{day} \\cdot \\mathrm{meter} \\cdot \\mathrm{pascal}\\right)}$"
     },
     "metadata": {},
     "execution_count": 8
    }
   ],
   "source": [
    "# Единица измерения второй строки таблицы \"Газопроницаемость других материалов\"\n",
    "p_2_UOM = ureg.milliliter * ureg.meter / (ureg.meter * ureg.meter * ureg.day * ureg.pascal)\n",
    "p_2_UOM"
   ]
  },
  {
   "cell_type": "code",
   "execution_count": 9,
   "metadata": {},
   "outputs": [
    {
     "output_type": "execute_result",
     "data": {
      "text/plain": "5.1320009869232674e-12 <Unit('milliliter / day / meter / pascal')>",
      "text/html": "\\[5.1320009869232674×10^{-12}\\ milliliter/(day\\ meter\\ pascal)\\]",
      "text/latex": "$5.1320009869232674\\times 10^{-12}\\ \\frac{\\mathrm{milliliter}}{\\left(\\mathrm{day} \\cdot \\mathrm{meter} \\cdot \\mathrm{pascal}\\right)}$"
     },
     "metadata": {},
     "execution_count": 9
    }
   ],
   "source": [
    "# Переводим значение первой строки в единицы измерения второй строки\n",
    "permiability_PVdC_1 = (2.6 * p_1_UOM).to(p_2_UOM)\n",
    "permiability_PVdC_1"
   ]
  },
  {
   "cell_type": "code",
   "execution_count": 10,
   "metadata": {},
   "outputs": [
    {
     "output_type": "execute_result",
     "data": {
      "text/plain": "0.001 <Unit('milliliter / day / meter / pascal')>",
      "text/html": "\\[0.001\\ milliliter/(day\\ meter\\ pascal)\\]",
      "text/latex": "$0.001\\ \\frac{\\mathrm{milliliter}}{\\left(\\mathrm{day} \\cdot \\mathrm{meter} \\cdot \\mathrm{pascal}\\right)}$"
     },
     "metadata": {},
     "execution_count": 10
    }
   ],
   "source": [
    "# Значение второй строки\n",
    "permiability_PVdC_2 = 0.001 * p_2_UOM\n",
    "permiability_PVdC_2"
   ]
  },
  {
   "cell_type": "code",
   "execution_count": 11,
   "metadata": {},
   "outputs": [
    {
     "output_type": "execute_result",
     "data": {
      "text/plain": "194855769.23076922 <Unit('dimensionless')>",
      "text/html": "\\[194855769.23076922\\ dimensionless\\]",
      "text/latex": "$194855769.23076922\\ dimensionless$"
     },
     "metadata": {},
     "execution_count": 11
    }
   ],
   "source": [
    "# Сравним значение первой строки со значением второй строки в одинаковых единицах измерения\n",
    "permiability_PVdC_2 / permiability_PVdC_1"
   ]
  },
  {
   "cell_type": "code",
   "execution_count": 12,
   "metadata": {},
   "outputs": [
    {
     "output_type": "execute_result",
     "data": {
      "text/plain": "'Первое значение 5.13e-12 в 1.95e+08 раз меньше второго значения 0.001'"
     },
     "metadata": {},
     "execution_count": 12
    }
   ],
   "source": [
    "f'Первое значение {permiability_PVdC_1.magnitude:.2e} в {(permiability_PVdC_2 / permiability_PVdC_1).magnitude:.2e} раз меньше второго значения {permiability_PVdC_2.magnitude}'"
   ]
  },
  {
   "cell_type": "markdown",
   "metadata": {},
   "source": [
    "**Вывод**\n",
    "\n",
    "Ориентироваться на показания, полученные из открытых источников нельзя:\n",
    "\n",
    "- не известно по какой методике проведен контроль;\n",
    "- не известна достоверность результатов (данные отличаются в несколько раз)."
   ]
  },
  {
   "cell_type": "code",
   "execution_count": 13,
   "metadata": {},
   "outputs": [],
   "source": [
    "# Максимум по ГОСТ 23553 2 * 10**(-12) м / (Па * с)\n",
    "gost23553_max_permiability = 2 * 10**(-12) * ureg.meter / (ureg.pascal * ureg.second)"
   ]
  },
  {
   "cell_type": "markdown",
   "metadata": {},
   "source": [
    "## Метод 1\n",
    "\n",
    "В первом методе выведем значения газопроницаемости по двум оставшимся ГОСТам (ГОСТ 23553 и ГОСТ 53656.2) по значению, которое установлено сейчас для первого ГОСТа (ГОСТ 8973)\n",
    "\n",
    "Значение воздухопроницаемости по ГОСТ 8973 - 0,002 м² / (Па / с)"
   ]
  },
  {
   "cell_type": "markdown",
   "metadata": {},
   "source": [
    "### ГОСТ 8973"
   ]
  },
  {
   "cell_type": "code",
   "execution_count": 14,
   "metadata": {},
   "outputs": [],
   "source": [
    "gost8973_UOM = ureg.meter * ureg.meter / (ureg.pascal * ureg.second)\n",
    "gost8973_permiability = 0.02 * gost8973_UOM"
   ]
  },
  {
   "cell_type": "code",
   "execution_count": null,
   "metadata": {},
   "outputs": [],
   "source": []
  },
  {
   "cell_type": "markdown",
   "metadata": {},
   "source": [
    "### ГОСТ 23553\n",
    "\n",
    "Единица измерения - м / (Па * сек.). Для перевода необходимо знать толщину материала. Смысл газопроницаемости по ГОСТ 23553 получается похож на скорость проникновения газов по ГОСТ Р 53656.2 (GPR)."
   ]
  },
  {
   "cell_type": "code",
   "execution_count": 15,
   "metadata": {},
   "outputs": [],
   "source": [
    "# Единицы измерения\n",
    "gost23553_P_UOM = ureg.meter / (ureg.pascal * ureg.second)"
   ]
  },
  {
   "cell_type": "code",
   "execution_count": 16,
   "metadata": {},
   "outputs": [
    {
     "output_type": "execute_result",
     "data": {
      "text/plain": "28.571428571428573 <Unit('meter / pascal / second')>",
      "text/html": "\\[28.571428571428573\\ meter/(pascal\\ second)\\]",
      "text/latex": "$28.571428571428573\\ \\frac{\\mathrm{meter}}{\\left(\\mathrm{pascal} \\cdot \\mathrm{second}\\right)}$"
     },
     "metadata": {},
     "execution_count": 16
    }
   ],
   "source": [
    "# Переводим значение по ГОСТ 8973 в значения по ГОСТ 23553 с учетом толщины\n",
    "gost23553_permiability = (gost8973_permiability / thickness_PVC).to(gost23553_P_UOM)\n",
    "gost23553_permiability"
   ]
  },
  {
   "cell_type": "markdown",
   "metadata": {},
   "source": [
    "### ГОСТ Р 53656.2"
   ]
  },
  {
   "cell_type": "code",
   "execution_count": 17,
   "metadata": {},
   "outputs": [],
   "source": [
    "# Основные единицы измерения по ГОСТ 53656 для\n",
    "# Р - газопроницаемость (скорость проникновения газа на обратную единицу толщины - чем толще, тем ниже газопроницаемость)\n",
    "# GTR - скорость проникновения газа (отличается тем, что не зависит от толщины)\n",
    "gost53656_P_UOM = ureg.mol * ureg.meter / (ureg.meter * ureg.meter * ureg.second * ureg.pascal)\n",
    "gost53656_GTR_UOM = ureg.mol / (ureg.meter * ureg.meter * ureg.second * ureg.pascal)\n",
    "\n",
    "gost53656_P_alt_UOM = ureg.centimeter * ureg.centimeter * ureg.centimeter * ureg.millimeter / (ureg.meter * ureg.meter * ureg.day * ureg.atmosphere)\n",
    "gost53656_GTR_alt_UOM = ureg.centimeter * ureg.centimeter * ureg.centimeter / (ureg.meter * ureg.meter * ureg.day * ureg.atmosphere)"
   ]
  },
  {
   "cell_type": "code",
   "execution_count": 18,
   "metadata": {},
   "outputs": [
    {
     "output_type": "execute_result",
     "data": {
      "text/plain": "1.7508959999999997e+17 <Unit('centimeter ** 3 * millimeter / day / meter ** 2 / standard_atmosphere')>",
      "text/html": "\\[1.7508959999999997×10^{17}\\ centimeter^3\\ millimeter/(day\\ meter^2\\ standard\\_atmosphere)\\]",
      "text/latex": "$1.7508959999999997\\times 10^{17}\\ \\frac{\\mathrm{centimeter}^{3} \\cdot \\mathrm{millimeter}}{\\left(\\mathrm{day} \\cdot \\mathrm{meter}^{2} \\cdot \\mathrm{standard\\_atmosphere}\\right)}$"
     },
     "metadata": {},
     "execution_count": 18
    }
   ],
   "source": [
    "# Перевод значения по ГОСТ 8973 в значения по ГОСТ 53656 (альтернативные единицы измерения, приведенные в п. А.6.2)\n",
    "# TODO Подумать, надо ли разделять только на кислород или считать как для всего воздуха\n",
    "gost53656_permiability_alt = (gost8973_permiability).to(gost53656_P_alt_UOM)\n",
    "gost53656_permiability_alt"
   ]
  },
  {
   "cell_type": "code",
   "execution_count": 19,
   "metadata": {},
   "outputs": [
    {
     "output_type": "execute_result",
     "data": {
      "text/plain": "0.8318495819064042 <Unit('mole / meter / pascal / second')>",
      "text/html": "\\[0.8318495819064042\\ mole/(meter\\ pascal\\ second)\\]",
      "text/latex": "$0.8318495819064042\\ \\frac{\\mathrm{mole}}{\\left(\\mathrm{meter} \\cdot \\mathrm{pascal} \\cdot \\mathrm{second}\\right)}$"
     },
     "metadata": {},
     "execution_count": 19
    }
   ],
   "source": [
    "# Переведем в основные единицы измерения по ГОСТ 53656\n",
    "# Чтобы перевести необходимо привести к нормальным условиям\n",
    "gost53656_permiability = gost53656_permiability_alt * ureg.atmosphere / (R * R_UOM * 293 * ureg.kelvin)\n",
    "gost53656_permiability.ito(gost53656_P_UOM)\n",
    "gost53656_permiability"
   ]
  },
  {
   "cell_type": "markdown",
   "metadata": {},
   "source": [
    "## Метод 2\n",
    "\n",
    "На основании установленного требования к уменьшению давления в ВГУ - 10 % за 6 часов"
   ]
  },
  {
   "cell_type": "code",
   "execution_count": 20,
   "metadata": {},
   "outputs": [
    {
     "output_type": "stream",
     "name": "stdout",
     "text": "13.269771423319801 mole\nОбъем потерь газа из ВГУ в нормальных условиях 0.319042570001865 meter ** 3\n"
    }
   ],
   "source": [
    "# Исходные данные для метода 2\n",
    "diameter_VGU = 1.4 * ureg.meter # Рассматриваем самый большой диаметр, т.к. у него самая большая площадь, соответсвенно самые большие потери\n",
    "length_VGU = 1.5 * ureg.meter\n",
    "\n",
    "# Площадь поверхности ВГУ\n",
    "area_VGU = pi * diameter_VGU * length_VGU + 2 * pi * diameter_VGU ** 2 # Периметр на длину плюс два торца\n",
    "\n",
    "# Объем ВГУ\n",
    "volume_VGU = pi * diameter_VGU**2 * length_VGU\n",
    "\n",
    "# Рабочее давление\n",
    "VGU_pressure = 35 * 10**3 * ureg.pascal\n",
    "\n",
    "# Изменение давления\n",
    "pressure_change = VGU_pressure * 0.1 \n",
    "\n",
    "# Количество газа \n",
    "nu = (pressure_change * volume_VGU / (R * R_UOM * 293 * ureg.kelvin )).to(ureg.mol)\n",
    "print(nu)\n",
    "\n",
    "# Объем газа в нормальных условиях\n",
    "volume = (nu * R * R_UOM * 293 * ureg.kelvin / (ureg.atmosphere)).to (ureg.meter * ureg.meter * ureg.meter)\n",
    "print(f'Объем потерь газа из ВГУ в нормальных условиях {volume}')\n",
    "\n",
    "# Продолжительность\n",
    "period = 6 * ureg.hour"
   ]
  },
  {
   "cell_type": "markdown",
   "metadata": {},
   "source": [
    "### ГОСТ 8973"
   ]
  },
  {
   "cell_type": "code",
   "execution_count": 21,
   "metadata": {},
   "outputs": [
    {
     "output_type": "execute_result",
     "data": {
      "text/plain": "1.5619909583037674e-14 <Unit('meter ** 2 / pascal / second')>",
      "text/html": "\\[1.5619909583037674×10^{-14}\\ meter^2/(pascal\\ second)\\]",
      "text/latex": "$1.5619909583037674\\times 10^{-14}\\ \\frac{\\mathrm{meter}^{2}}{\\left(\\mathrm{pascal} \\cdot \\mathrm{second}\\right)}$"
     },
     "metadata": {},
     "execution_count": 21
    }
   ],
   "source": [
    "gost8973_permiability_m2 = (volume * thickness_PVC / (35 * 10**3 * ureg.pascal * period * area_VGU)).to(gost8973_UOM)\n",
    "gost8973_permiability_m2"
   ]
  },
  {
   "cell_type": "markdown",
   "metadata": {},
   "source": [
    "### ГОСТ 23553"
   ]
  },
  {
   "cell_type": "code",
   "execution_count": 22,
   "metadata": {},
   "outputs": [
    {
     "output_type": "execute_result",
     "data": {
      "text/plain": "2.2314156547196674e-11 <Unit('meter / pascal / second')>",
      "text/html": "\\[2.2314156547196674×10^{-11}\\ meter/(pascal\\ second)\\]",
      "text/latex": "$2.2314156547196674\\times 10^{-11}\\ \\frac{\\mathrm{meter}}{\\left(\\mathrm{pascal} \\cdot \\mathrm{second}\\right)}$"
     },
     "metadata": {},
     "execution_count": 22
    }
   ],
   "source": [
    "gost23553_permiability_m2 = (volume / (35 * 10**3 * ureg.pascal * period * area_VGU)).to(gost23553_P_UOM)\n",
    "gost23553_permiability_m2"
   ]
  },
  {
   "cell_type": "markdown",
   "metadata": {},
   "source": [
    "### ГОСТ 53656.2"
   ]
  },
  {
   "cell_type": "code",
   "execution_count": 23,
   "metadata": {},
   "outputs": [
    {
     "output_type": "execute_result",
     "data": {
      "text/plain": "6.496707628032863e-13 <Unit('mole / meter / pascal / second')>",
      "text/html": "\\[6.496707628032863×10^{-13}\\ mole/(meter\\ pascal\\ second)\\]",
      "text/latex": "$6.496707628032863\\times 10^{-13}\\ \\frac{\\mathrm{mole}}{\\left(\\mathrm{meter} \\cdot \\mathrm{pascal} \\cdot \\mathrm{second}\\right)}$"
     },
     "metadata": {},
     "execution_count": 23
    }
   ],
   "source": [
    "gost53656_permiability_m2 = (gost8973_permiability_m2 * ureg.atmosphere / (R * R_UOM * 293 * ureg.kelvin)).to(gost53656_P_UOM)\n",
    "gost53656_permiability_m2"
   ]
  },
  {
   "cell_type": "markdown",
   "metadata": {},
   "source": [
    "## Итоги"
   ]
  },
  {
   "cell_type": "markdown",
   "metadata": {},
   "source": [
    "### Метод 1"
   ]
  },
  {
   "cell_type": "code",
   "execution_count": 24,
   "metadata": {},
   "outputs": [],
   "source": [
    "import pandas as pd"
   ]
  },
  {
   "cell_type": "code",
   "execution_count": 27,
   "metadata": {},
   "outputs": [
    {
     "output_type": "display_data",
     "data": {
      "text/plain": "                           НД     Значение  \\\n0                   ИД: ПВХ 1        0.198   \n1                   ИД: ПВХ 2      3.1e-08   \n2  ИД: Максимум по ГОСТ 23553        2e-12   \n3                М1 ГОСТ 8973         0.02   \n4               М1 ГОСТ 23553      28.5714   \n5             М1 ГОСТ Р 53656         0.83   \n6       М1 ГОСТ Р 53656 (доп)     1.75e+17   \n7                М2 ГОСТ 8973  1.56199e-14   \n8               М2 ГОСТ 23553  2.23142e-11   \n9             М2 ГОСТ Р 53656      6.5e-13   \n\n                                                       Единица измерения  \\\n0                                      milliliter / day / meter / pascal   \n1                                      milliliter / day / meter / pascal   \n2                                                meter / pascal / second   \n3                                           meter ** 2 / pascal / second   \n4                                                meter / pascal / second   \n5                                         mole / meter / pascal / second   \n6  centimeter ** 3 * millimeter / day / meter ** 2 / standard_atmosphere   \n7                                           meter ** 2 / pascal / second   \n8                                                meter / pascal / second   \n9                                         mole / meter / pascal / second   \n\n                                                                                                                                              Примечание  \\\n0                                                                                                                                                          \n1                                                                                                                                                          \n2                                                                                              Перевод в единицы по ГОСТ 8973 при толщине 0.7 millimeter   \n3                                                                                                                                                          \n4  Соответсвует значению по ГОСТ 8973 при толщине 0.7 millimeter. Значение намного !!! больше, чем допускает ГОСТ 23553 (2*10**(-12) м/(Па * сек.)). ...   \n5                                                                                            Соответствует значению по ГОСТ 8973 при нормальных условиях   \n6                                                                                                                    Соответствует значению по ГОСТ 8973   \n7                                                                                                                                                          \n8                                                                                                                                                          \n9                                                                                            Соответствует значению по ГОСТ 8973 при нормальных условиях   \n\n   м² / Па / сек. (ГОСТ 8973)  \n0                2.291667e-12  \n1                3.587963e-19  \n2                1.400000e-15  \n3                2.000000e-02  \n4                2.000000e-02  \n5                         NaN  \n6                2.000000e-02  \n7                1.561991e-14  \n8                1.561991e-14  \n9                         NaN  ",
      "text/html": "<div>\n<style scoped>\n    .dataframe tbody tr th:only-of-type {\n        vertical-align: middle;\n    }\n\n    .dataframe tbody tr th {\n        vertical-align: top;\n    }\n\n    .dataframe thead th {\n        text-align: right;\n    }\n</style>\n<table border=\"1\" class=\"dataframe\">\n  <thead>\n    <tr style=\"text-align: right;\">\n      <th></th>\n      <th>НД</th>\n      <th>Значение</th>\n      <th>Единица измерения</th>\n      <th>Примечание</th>\n      <th>м² / Па / сек. (ГОСТ 8973)</th>\n    </tr>\n  </thead>\n  <tbody>\n    <tr>\n      <th>0</th>\n      <td>ИД: ПВХ 1</td>\n      <td>0.198</td>\n      <td>milliliter / day / meter / pascal</td>\n      <td></td>\n      <td>2.291667e-12</td>\n    </tr>\n    <tr>\n      <th>1</th>\n      <td>ИД: ПВХ 2</td>\n      <td>3.1e-08</td>\n      <td>milliliter / day / meter / pascal</td>\n      <td></td>\n      <td>3.587963e-19</td>\n    </tr>\n    <tr>\n      <th>2</th>\n      <td>ИД: Максимум по ГОСТ 23553</td>\n      <td>2e-12</td>\n      <td>meter / pascal / second</td>\n      <td>Перевод в единицы по ГОСТ 8973 при толщине 0.7 millimeter</td>\n      <td>1.400000e-15</td>\n    </tr>\n    <tr>\n      <th>3</th>\n      <td>М1 ГОСТ 8973</td>\n      <td>0.02</td>\n      <td>meter ** 2 / pascal / second</td>\n      <td></td>\n      <td>2.000000e-02</td>\n    </tr>\n    <tr>\n      <th>4</th>\n      <td>М1 ГОСТ 23553</td>\n      <td>28.5714</td>\n      <td>meter / pascal / second</td>\n      <td>Соответсвует значению по ГОСТ 8973 при толщине 0.7 millimeter. Значение намного !!! больше, чем допускает ГОСТ 23553 (2*10**(-12) м/(Па * сек.)). ...</td>\n      <td>2.000000e-02</td>\n    </tr>\n    <tr>\n      <th>5</th>\n      <td>М1 ГОСТ Р 53656</td>\n      <td>0.83</td>\n      <td>mole / meter / pascal / second</td>\n      <td>Соответствует значению по ГОСТ 8973 при нормальных условиях</td>\n      <td>NaN</td>\n    </tr>\n    <tr>\n      <th>6</th>\n      <td>М1 ГОСТ Р 53656 (доп)</td>\n      <td>1.75e+17</td>\n      <td>centimeter ** 3 * millimeter / day / meter ** 2 / standard_atmosphere</td>\n      <td>Соответствует значению по ГОСТ 8973</td>\n      <td>2.000000e-02</td>\n    </tr>\n    <tr>\n      <th>7</th>\n      <td>М2 ГОСТ 8973</td>\n      <td>1.56199e-14</td>\n      <td>meter ** 2 / pascal / second</td>\n      <td></td>\n      <td>1.561991e-14</td>\n    </tr>\n    <tr>\n      <th>8</th>\n      <td>М2 ГОСТ 23553</td>\n      <td>2.23142e-11</td>\n      <td>meter / pascal / second</td>\n      <td></td>\n      <td>1.561991e-14</td>\n    </tr>\n    <tr>\n      <th>9</th>\n      <td>М2 ГОСТ Р 53656</td>\n      <td>6.5e-13</td>\n      <td>mole / meter / pascal / second</td>\n      <td>Соответствует значению по ГОСТ 8973 при нормальных условиях</td>\n      <td>NaN</td>\n    </tr>\n  </tbody>\n</table>\n</div>"
     },
     "metadata": {}
    }
   ],
   "source": [
    "dates = pd.DataFrame(data=[\n",
    "        ['ИД: ПВХ 1', permiability_PVC_1.magnitude, permiability_PVC_1.units, '', permiability_PVC_1.to(gost8973_UOM).magnitude],\n",
    "        ['ИД: ПВХ 2', permiability_PVC_2.magnitude, permiability_PVC_2.units, '', permiability_PVC_2.to(gost8973_UOM).magnitude],\n",
    "        ['ИД: Максимум по ГОСТ 23553', gost23553_max_permiability.magnitude, gost23553_max_permiability.units, f'Перевод в единицы по ГОСТ 8973 при толщине {thickness_PVC}', (gost23553_max_permiability * thickness_PVC).to(gost8973_UOM).magnitude],\n",
    "        ['М1 ГОСТ 8973', f'{gost8973_permiability.magnitude}', gost8973_permiability.units, '', gost8973_permiability.magnitude],\n",
    "        ['М1 ГОСТ 23553', gost23553_permiability.magnitude, gost23553_permiability.units, f'Соответсвует значению по ГОСТ 8973 при толщине {thickness_PVC}. Значение намного !!! больше, чем допускает ГОСТ 23553 (2*10**(-12) м/(Па * сек.)). Единица измерения как у скорости проникновения газов в ГОСТ Р 53656 (GTR)', (gost23553_permiability * thickness_PVC).to(gost8973_UOM).magnitude],\n",
    "        ['М1 ГОСТ Р 53656', f'{gost53656_permiability.magnitude:.2}', gost53656_permiability.units, 'Соответствует значению по ГОСТ 8973 при нормальных условиях', ],\n",
    "        ['М1 ГОСТ Р 53656 (доп)', f'{gost53656_permiability_alt.magnitude:.2e}',gost53656_permiability_alt.units, 'Соответствует значению по ГОСТ 8973', gost53656_permiability_alt.to(gost8973_UOM).magnitude],\n",
    "        ['М2 ГОСТ 8973', gost8973_permiability_m2.magnitude, gost8973_permiability_m2.units, '', gost8973_permiability_m2.magnitude],\n",
    "        ['М2 ГОСТ 23553', gost23553_permiability_m2.magnitude, gost23553_permiability_m2.units, '', (gost23553_permiability_m2 * thickness_PVC).to(gost8973_UOM).magnitude],\n",
    "        ['М2 ГОСТ Р 53656', f'{gost53656_permiability_m2.magnitude:.2}', gost53656_permiability_m2.units, 'Соответствует значению по ГОСТ 8973 при нормальных условиях', ],\n",
    "    ],\n",
    "    columns=['НД','Значение','Единица измерения', 'Примечание','м² / Па / сек. (ГОСТ 8973)']\n",
    "    )\n",
    "pd.set_option('display.max_colwidth', 150)\n",
    "display(dates)"
   ]
  },
  {
   "cell_type": "code",
   "execution_count": 26,
   "metadata": {},
   "outputs": [],
   "source": [
    "dates.to_csv('results.csv')\n",
    "dates.to_excel('results.xls')"
   ]
  }
 ],
 "metadata": {
  "kernelspec": {
   "display_name": "Python 3",
   "language": "python",
   "name": "python3"
  },
  "language_info": {
   "codemirror_mode": {
    "name": "ipython",
    "version": 3
   },
   "file_extension": ".py",
   "mimetype": "text/x-python",
   "name": "python",
   "nbconvert_exporter": "python",
   "pygments_lexer": "ipython3",
   "version": "3.7.7-final"
  }
 },
 "nbformat": 4,
 "nbformat_minor": 2
}