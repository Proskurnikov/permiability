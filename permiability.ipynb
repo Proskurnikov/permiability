{
 "cells": [
  {
   "cell_type": "code",
   "execution_count": 1,
   "metadata": {},
   "outputs": [
    {
     "output_type": "stream",
     "name": "stdout",
     "text": "8.314462618\n"
    },
    {
     "output_type": "execute_result",
     "data": {
      "text/plain": "<Unit('joule / kelvin / mole')>",
      "text/html": "\\[joule/(kelvin\\ mole)\\]",
      "text/latex": "$\\frac{\\mathrm{joule}}{\\left(\\mathrm{kelvin} \\cdot \\mathrm{mole}\\right)}$"
     },
     "metadata": {},
     "execution_count": 1
    }
   ],
   "source": [
    "# подключим необходимые библиотеки\n",
    "# Единицы измерения\n",
    "from pint import UnitRegistry\n",
    "ureg = UnitRegistry()\n",
    "\n",
    "# Универсальная газовая постоянная\n",
    "from scipy.constants import R\n",
    "print(R)\n",
    "# Единица измерения для универсальной газовой постоянной\n",
    "R_UOM = ureg.joule / (ureg.mol * ureg.kelvin)\n",
    "R_UOM"
   ]
  },
  {
   "cell_type": "markdown",
   "metadata": {},
   "source": [
    "\n",
    "\n",
    "\n",
    "\n",
    "# Газопроницаемость\n",
    "\n",
    "Оценка газопроницаемости тканей с двусторонним покрыттием (резиновым или ПВХ) для проекта СТО ВГУ ОТУ.\n",
    "\n",
    "Будет проведена попытка оценки двумя методами:\n",
    "\n",
    "- первый - на основании установленного требования по ГОСТ 8973 - 0,002 м² / (Па / с)\n",
    "- второй - на основании установленного требования к уменьшению давления в ВГУ - 10 % за 6 часов\n",
    "\n",
    "## Исходные данные\n",
    "\n",
    "### Газопроницаемость реальных материалов\n",
    "\n",
    "Газопроницаемость ПВХ-ткани в открытых источниках найти не удалось.\n",
    "\n",
    "Газопроницаемость ПВХ\n",
    "\n",
    " Газ | Значение | Единица измерения | Ссылка\n",
    ":---:|:--------:|:-----------------:|:-------:\n",
    "Кислород | 0.198 - 0.790 | мл \\* м / (м² \\* сутки * Па) | [ссылка](https://www.quora.com/How-long-can-a-human-survive-in-an-inflatable-plastic-bubble-with-a-2-meter-diameter)\n",
    "Кислород | 3100 | см³ \\* микрометр / (м² \\* сутки * бар) | [ссылка]( http://exclusive.multibriefs.com/content/novel-medical-plastics-packaging-material-and-process-advances/engineering)\n",
    "\n",
    "\n",
    "Газопроницаемость других материалов (для сравнения)\n",
    "\n",
    " Материал | Газ | Значение | Единица измерения | Ссылка | Примечание\n",
    ":--------:|:---:|:--------:|:-----------------:|:------:|:-----------:\n",
    "Поливинилиденхлорид | Кислород | 2.6 | см³ \\* 0.2 микрометра / (м² \\* сутки * атмосферу) | [ссылка](https://www.quora.com/How-long-can-a-human-survive-in-an-inflatable-plastic-bubble-with-a-2-meter-diameter) | Указано, что хороший барьер\n",
    "Поливинилиденхлорид | Кислород | 0.001 - 0.03 | мл \\* м / (м² \\* сутки * Па) | [ссылка](https://www.quora.com/How-long-can-a-human-survive-in-an-inflatable-plastic-bubble-with-a-2-meter-diameter)\n",
    "\n",
    "\n"
   ]
  },
  {
   "cell_type": "code",
   "execution_count": 2,
   "metadata": {},
   "outputs": [
    {
     "output_type": "execute_result",
     "data": {
      "text/plain": "<Unit('milliliter / day / meter / pascal')>",
      "text/html": "\\[milliliter/(day\\ meter\\ pascal)\\]",
      "text/latex": "$\\frac{\\mathrm{milliliter}}{\\left(\\mathrm{day} \\cdot \\mathrm{meter} \\cdot \\mathrm{pascal}\\right)}$"
     },
     "metadata": {},
     "execution_count": 2
    }
   ],
   "source": [
    "# Проверим исходные данные, полученные из разных источников\n",
    "# Сравнить по самим данным достаточно сложно, т.к. единицы измерения очень отличаются\n",
    "# для перевода воспользуемся математическим пакетом (автоматически переведем единицы измерения) pint\n",
    "# Единица измерения первой строки таблицы \"Газопроницаемость ПВХ\"\n",
    "p_pvc1_UOM = ureg.milliliter * ureg.meter / (ureg.meter * ureg.meter * ureg.day * ureg.pascal)     # UOM - unit of measure\n",
    "p_pvc1_UOM"
   ]
  },
  {
   "cell_type": "code",
   "execution_count": 3,
   "metadata": {},
   "outputs": [
    {
     "output_type": "execute_result",
     "data": {
      "text/plain": "<Unit('centimeter ** 3 * micrometer / bar / day / meter ** 2')>",
      "text/html": "\\[centimeter^3\\ micrometer/(bar\\ day\\ meter^2)\\]",
      "text/latex": "$\\frac{\\mathrm{centimeter}^{3} \\cdot \\mathrm{micrometer}}{\\left(\\mathrm{bar} \\cdot \\mathrm{day} \\cdot \\mathrm{meter}^{2}\\right)}$"
     },
     "metadata": {},
     "execution_count": 3
    }
   ],
   "source": [
    "# Единица измерения второй строки таблицы \"Газопроницаемость ПВХ\"\n",
    "p_pvc2_UOM = ureg.centimeter * ureg.centimeter * ureg.centimeter * ureg.micrometer / (ureg.meter * ureg.meter * ureg.day * ureg.bar)\n",
    "p_pvc2_UOM"
   ]
  },
  {
   "cell_type": "code",
   "execution_count": 4,
   "metadata": {},
   "outputs": [
    {
     "output_type": "execute_result",
     "data": {
      "text/plain": "3.1000000000000006e-08 <Unit('milliliter / day / meter / pascal')>",
      "text/html": "\\[3.1000000000000006×10^{-8}\\ milliliter/(day\\ meter\\ pascal)\\]",
      "text/latex": "$3.1000000000000006\\times 10^{-8}\\ \\frac{\\mathrm{milliliter}}{\\left(\\mathrm{day} \\cdot \\mathrm{meter} \\cdot \\mathrm{pascal}\\right)}$"
     },
     "metadata": {},
     "execution_count": 4
    }
   ],
   "source": [
    "# Перводим значение второй строки в единицы измерения первой строки\n",
    "permiability_PVC_2 = (3100 * p_pvc2_UOM).to(p_pvc1_UOM)\n",
    "permiability_PVC_2"
   ]
  },
  {
   "cell_type": "code",
   "execution_count": 5,
   "metadata": {},
   "outputs": [
    {
     "output_type": "execute_result",
     "data": {
      "text/plain": "0.198 <Unit('milliliter / day / meter / pascal')>",
      "text/html": "\\[0.198\\ milliliter/(day\\ meter\\ pascal)\\]",
      "text/latex": "$0.198\\ \\frac{\\mathrm{milliliter}}{\\left(\\mathrm{day} \\cdot \\mathrm{meter} \\cdot \\mathrm{pascal}\\right)}$"
     },
     "metadata": {},
     "execution_count": 5
    }
   ],
   "source": [
    "permiability_PVC_1 = 0.198 * p_pvc1_UOM\n",
    "permiability_PVC_1"
   ]
  },
  {
   "cell_type": "code",
   "execution_count": 6,
   "metadata": {},
   "outputs": [
    {
     "output_type": "execute_result",
     "data": {
      "text/plain": "6387096.774193548 <Unit('dimensionless')>",
      "text/html": "\\[6387096.774193548\\ dimensionless\\]",
      "text/latex": "$6387096.774193548\\ dimensionless$"
     },
     "metadata": {},
     "execution_count": 6
    }
   ],
   "source": [
    "permiability_PVC_1 / permiability_PVC_2"
   ]
  },
  {
   "cell_type": "code",
   "execution_count": 7,
   "metadata": {},
   "outputs": [
    {
     "output_type": "execute_result",
     "data": {
      "text/plain": "0.2 <Unit('centimeter ** 3 * micrometer / day / meter ** 2 / standard_atmosphere')>",
      "text/html": "\\[0.2\\ centimeter^3\\ micrometer/(day\\ meter^2\\ standard\\_atmosphere)\\]",
      "text/latex": "$0.2\\ \\frac{\\mathrm{centimeter}^{3} \\cdot \\mathrm{micrometer}}{\\left(\\mathrm{day} \\cdot \\mathrm{meter}^{2} \\cdot \\mathrm{standard\\_atmosphere}\\right)}$"
     },
     "metadata": {},
     "execution_count": 7
    }
   ],
   "source": [
    "# Единица измерения первой строки таблицы \"Газопроницаемость других материалов\"\n",
    "p_1_UOM = ureg.centimeter * ureg.centimeter * ureg.centimeter * 0.2 * ureg.micrometer / (ureg.meter * ureg.meter * ureg.day * ureg.atmosphere) # UOM - unit of measure\n",
    "p_1_UOM"
   ]
  },
  {
   "cell_type": "code",
   "execution_count": 8,
   "metadata": {},
   "outputs": [
    {
     "output_type": "execute_result",
     "data": {
      "text/plain": "<Unit('milliliter / day / meter / pascal')>",
      "text/html": "\\[milliliter/(day\\ meter\\ pascal)\\]",
      "text/latex": "$\\frac{\\mathrm{milliliter}}{\\left(\\mathrm{day} \\cdot \\mathrm{meter} \\cdot \\mathrm{pascal}\\right)}$"
     },
     "metadata": {},
     "execution_count": 8
    }
   ],
   "source": [
    "# Единица измерения второй строки таблицы \"Газопроницаемость других материалов\"\n",
    "p_2_UOM = ureg.milliliter * ureg.meter / (ureg.meter * ureg.meter * ureg.day * ureg.pascal)\n",
    "p_2_UOM"
   ]
  },
  {
   "cell_type": "code",
   "execution_count": 9,
   "metadata": {},
   "outputs": [
    {
     "output_type": "execute_result",
     "data": {
      "text/plain": "5.1320009869232674e-12 <Unit('milliliter / day / meter / pascal')>",
      "text/html": "\\[5.1320009869232674×10^{-12}\\ milliliter/(day\\ meter\\ pascal)\\]",
      "text/latex": "$5.1320009869232674\\times 10^{-12}\\ \\frac{\\mathrm{milliliter}}{\\left(\\mathrm{day} \\cdot \\mathrm{meter} \\cdot \\mathrm{pascal}\\right)}$"
     },
     "metadata": {},
     "execution_count": 9
    }
   ],
   "source": [
    "# Переводим значение первой строки в единицы измерения второй строки\n",
    "permiability_PVdC_1 = (2.6 * p_1_UOM).to(p_2_UOM)\n",
    "permiability_PVdC_1"
   ]
  },
  {
   "cell_type": "code",
   "execution_count": 10,
   "metadata": {},
   "outputs": [
    {
     "output_type": "execute_result",
     "data": {
      "text/plain": "0.001 <Unit('milliliter / day / meter / pascal')>",
      "text/html": "\\[0.001\\ milliliter/(day\\ meter\\ pascal)\\]",
      "text/latex": "$0.001\\ \\frac{\\mathrm{milliliter}}{\\left(\\mathrm{day} \\cdot \\mathrm{meter} \\cdot \\mathrm{pascal}\\right)}$"
     },
     "metadata": {},
     "execution_count": 10
    }
   ],
   "source": [
    "# Значение второй строки\n",
    "permiability_PVdC_2 = 0.001 * p_2_UOM\n",
    "permiability_PVdC_2"
   ]
  },
  {
   "cell_type": "code",
   "execution_count": 11,
   "metadata": {},
   "outputs": [
    {
     "output_type": "execute_result",
     "data": {
      "text/plain": "194855769.23076922 <Unit('dimensionless')>",
      "text/html": "\\[194855769.23076922\\ dimensionless\\]",
      "text/latex": "$194855769.23076922\\ dimensionless$"
     },
     "metadata": {},
     "execution_count": 11
    }
   ],
   "source": [
    "# Сравним значение первой строки со значением второй строки в одинаковых единицах измерения\n",
    "permiability_PVdC_2 / permiability_PVdC_1"
   ]
  },
  {
   "cell_type": "code",
   "execution_count": 12,
   "metadata": {},
   "outputs": [
    {
     "output_type": "execute_result",
     "data": {
      "text/plain": "'Первое значение 5.13e-12 в 1.95e+08 раз меньше второго значения 0.001'"
     },
     "metadata": {},
     "execution_count": 12
    }
   ],
   "source": [
    "f'Первое значение {permiability_PVdC_1.magnitude:.2e} в {(permiability_PVdC_2 / permiability_PVdC_1).magnitude:.2e} раз меньше второго значения {permiability_PVdC_2.magnitude}'"
   ]
  },
  {
   "cell_type": "markdown",
   "metadata": {},
   "source": [
    "**Вывод**\n",
    "\n",
    "Ориентироваться на показания, полученные из открытых источников нельзя:\n",
    "\n",
    "- не известно по какой методике проведен контроль;\n",
    "- не известна достоверность результатов (данные отличаются в несколько раз)."
   ]
  },
  {
   "cell_type": "markdown",
   "metadata": {},
   "source": [
    "## Метод 1\n",
    "\n",
    "В первом методе выведем значения газопроницаемости по двум оставшимся ГОСТам (ГОСТ 23553 и ГОСТ 53656.2) по значению, которое установлено сейчас для первого ГОСТа (ГОСТ 8973)\n",
    "\n",
    "Значение воздухопроницаемости по ГОСТ 8973 - 0,002 м² / (Па / с)"
   ]
  },
  {
   "cell_type": "markdown",
   "metadata": {},
   "source": [
    "### ГОСТ 8973"
   ]
  },
  {
   "cell_type": "code",
   "execution_count": 13,
   "metadata": {},
   "outputs": [],
   "source": [
    "gost8973_UOM = ureg.meter * ureg.meter / (ureg.pascal * ureg.second)\n",
    "gost8973_permiability = 0.02 * gost8973_UOM"
   ]
  },
  {
   "cell_type": "code",
   "execution_count": null,
   "metadata": {},
   "outputs": [],
   "source": []
  },
  {
   "cell_type": "markdown",
   "metadata": {},
   "source": [
    "### ГОСТ 23553"
   ]
  },
  {
   "cell_type": "markdown",
   "metadata": {},
   "source": [
    "### ГОСТ Р 53656.2"
   ]
  },
  {
   "cell_type": "code",
   "execution_count": 14,
   "metadata": {},
   "outputs": [],
   "source": [
    "# Основные единицы измерения по ГОСТ 53656 для\n",
    "# Р - газопроницаемость (скорость проникновения газа на обратную единицу толщины - чем толще, тем ниже газопроницаемость)\n",
    "# GTR - скорость проникновения газа (отличается тем, что не зависит от толщины)\n",
    "gost53656_P_UOM = ureg.mol * ureg.meter / (ureg.meter * ureg.meter * ureg.second * ureg.pascal)\n",
    "gost53656_GTR_UOM = ureg.mol / (ureg.meter * ureg.meter * ureg.second * ureg.pascal)\n",
    "\n",
    "gost53656_P_alt_UOM = ureg.centimeter * ureg.centimeter * ureg.centimeter * ureg.millimeter / (ureg.meter * ureg.meter * ureg.day * ureg.atmosphere)\n",
    "gost53656_GTR_alt_UOM = ureg.centimeter * ureg.centimeter * ureg.centimeter / (ureg.meter * ureg.meter * ureg.day * ureg.atmosphere)"
   ]
  },
  {
   "cell_type": "code",
   "execution_count": 15,
   "metadata": {},
   "outputs": [
    {
     "output_type": "execute_result",
     "data": {
      "text/plain": "1.7508959999999997e+17 <Unit('centimeter ** 3 * millimeter / day / meter ** 2 / standard_atmosphere')>",
      "text/html": "\\[1.7508959999999997×10^{17}\\ centimeter^3\\ millimeter/(day\\ meter^2\\ standard\\_atmosphere)\\]",
      "text/latex": "$1.7508959999999997\\times 10^{17}\\ \\frac{\\mathrm{centimeter}^{3} \\cdot \\mathrm{millimeter}}{\\left(\\mathrm{day} \\cdot \\mathrm{meter}^{2} \\cdot \\mathrm{standard\\_atmosphere}\\right)}$"
     },
     "metadata": {},
     "execution_count": 15
    }
   ],
   "source": [
    "# Перевод значения по ГОСТ 8973 в значения по ГОСТ 53656 (альтернативные единицы измерения, приведенные в п. А.6.2)\n",
    "# TODO Подумать, надо ли разделять только на кислород или считать как для всего воздуха\n",
    "gost53656_permiability_alt = (gost8973_permiability).to(gost53656_P_alt_UOM)\n",
    "gost53656_permiability_alt"
   ]
  },
  {
   "cell_type": "code",
   "execution_count": 17,
   "metadata": {},
   "outputs": [
    {
     "output_type": "execute_result",
     "data": {
      "text/plain": "0.8209717067914181 <Unit('mole / meter / pascal / second')>",
      "text/html": "\\[0.8209717067914181\\ mole/(meter\\ pascal\\ second)\\]",
      "text/latex": "$0.8209717067914181\\ \\frac{\\mathrm{mole}}{\\left(\\mathrm{meter} \\cdot \\mathrm{pascal} \\cdot \\mathrm{second}\\right)}$"
     },
     "metadata": {},
     "execution_count": 17
    }
   ],
   "source": [
    "# Переведем в основные единицы измерения по ГОСТ 53656\n",
    "# Чтобы перевести необходимо привести к нормальным условиям\n",
    "gost53656_permiability = gost53656_permiability_alt * 10**5 * ureg.pascal / (R * R_UOM * 293 * ureg.kelvin)\n",
    "gost53656_permiability.to(gost53656_P_UOM)"
   ]
  },
  {
   "cell_type": "markdown",
   "metadata": {},
   "source": [
    "## Метод 2\n",
    "\n",
    "На основании установленного требования к уменьшению давления в ВГУ - 10 % за 6 часов"
   ]
  },
  {
   "cell_type": "markdown",
   "metadata": {},
   "source": [
    "### ГОСТ 23553"
   ]
  },
  {
   "cell_type": "markdown",
   "metadata": {},
   "source": [
    "### ГОСТ 53656.2"
   ]
  },
  {
   "cell_type": "markdown",
   "metadata": {},
   "source": [
    "## Итоги"
   ]
  },
  {
   "cell_type": "code",
   "execution_count": 19,
   "metadata": {},
   "outputs": [],
   "source": [
    "import pandas as pd"
   ]
  },
  {
   "cell_type": "code",
   "execution_count": 27,
   "metadata": {},
   "outputs": [
    {
     "output_type": "execute_result",
     "data": {
      "text/plain": "    1   2   3\n0  23  34  34",
      "text/html": "<div>\n<style scoped>\n    .dataframe tbody tr th:only-of-type {\n        vertical-align: middle;\n    }\n\n    .dataframe tbody tr th {\n        vertical-align: top;\n    }\n\n    .dataframe thead th {\n        text-align: right;\n    }\n</style>\n<table border=\"1\" class=\"dataframe\">\n  <thead>\n    <tr style=\"text-align: right;\">\n      <th></th>\n      <th>1</th>\n      <th>2</th>\n      <th>3</th>\n    </tr>\n  </thead>\n  <tbody>\n    <tr>\n      <th>0</th>\n      <td>23</td>\n      <td>34</td>\n      <td>34</td>\n    </tr>\n  </tbody>\n</table>\n</div>"
     },
     "metadata": {},
     "execution_count": 27
    }
   ],
   "source": [
    "dates = pd.DataFrame(data={'1' : ['23'], '2' : ['34'], '3' : ['34']})\n",
    "dates"
   ]
  },
  {
   "cell_type": "code",
   "execution_count": null,
   "metadata": {},
   "outputs": [],
   "source": []
  }
 ],
 "metadata": {
  "kernelspec": {
   "display_name": "Python 3.7.7 64-bit ('test': conda)",
   "language": "python",
   "name": "python37764bittestconda126ab5d893ee44f9b4790337ff41f0ea"
  },
  "language_info": {
   "codemirror_mode": {
    "name": "ipython",
    "version": 3
   },
   "file_extension": ".py",
   "mimetype": "text/x-python",
   "name": "python",
   "nbconvert_exporter": "python",
   "pygments_lexer": "ipython3",
   "version": "3.7.7-final"
  }
 },
 "nbformat": 4,
 "nbformat_minor": 2
}